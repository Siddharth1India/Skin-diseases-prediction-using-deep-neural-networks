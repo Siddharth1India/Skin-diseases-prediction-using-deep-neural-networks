{
 "cells": [
  {
   "attachments": {},
   "cell_type": "markdown",
   "metadata": {},
   "source": [
    "# Skin diseases prediction using various deep neural networks\n",
    "Here, I will be implementing various deep learning architectures to classify thirteen different types of skin diseases.\n",
    "The target of this experiment is to compare various models on various parameters to draw possible conclusions about architectures.\n",
    "Models implemented here are:\n",
    "1. TinyVGG (without augmentation)\n",
    "2. TinyVGG (with augmentation)\n",
    "3. MobileNet\n",
    "4. DenseNet\n",
    "5. VGG19\n",
    "6. Vision Transformers\n",
    "<br>\n",
    "As data is medical data, it is difficult to generate synthetic data which accurately represents specific diseases. That is why, I will be using resampling if required. Transfer learning will be used for some models while some will be trained from scratch.\n",
    "<br>\n",
    "Experiment is designed in a way that code can be understood easily with well written documentation following all methods of writing code suggested in PEP 8 style of python programming.\n",
    "<br>\n",
    "As this is experiment setup, code is in notebook. Once results are derived, code can be converted in modular format and packaged to be delievered for easy usage."
   ]
  },
  {
   "attachments": {},
   "cell_type": "markdown",
   "metadata": {},
   "source": [
    "## 0. Setting up machine for experiment"
   ]
  },
  {
   "cell_type": "code",
   "execution_count": 1,
   "metadata": {},
   "outputs": [
    {
     "data": {
      "text/plain": [
       "'2.0.0+cu117'"
      ]
     },
     "execution_count": 1,
     "metadata": {},
     "output_type": "execute_result"
    }
   ],
   "source": [
    "import torch\n",
    "from torch import nn\n",
    "\n",
    "torch.__version__"
   ]
  },
  {
   "attachments": {},
   "cell_type": "markdown",
   "metadata": {},
   "source": [
    "Now, as experiment should run on both CPU as well as GPU machines, I will set device which can be done directly with PyTorch."
   ]
  },
  {
   "cell_type": "code",
   "execution_count": 2,
   "metadata": {},
   "outputs": [
    {
     "data": {
      "text/plain": [
       "'cuda'"
      ]
     },
     "execution_count": 2,
     "metadata": {},
     "output_type": "execute_result"
    }
   ],
   "source": [
    "device = \"cuda\" if torch.cuda.is_available() else \"cpu\"\n",
    "device"
   ]
  },
  {
   "attachments": {},
   "cell_type": "markdown",
   "metadata": {},
   "source": [
    "I have GPU set in my machine which is represented by CUDA in PyTorch (CUDA is NVIDIA GPU computing toolkit)."
   ]
  }
 ],
 "metadata": {
  "kernelspec": {
   "display_name": "Python 3",
   "language": "python",
   "name": "python3"
  },
  "language_info": {
   "codemirror_mode": {
    "name": "ipython",
    "version": 3
   },
   "file_extension": ".py",
   "mimetype": "text/x-python",
   "name": "python",
   "nbconvert_exporter": "python",
   "pygments_lexer": "ipython3",
   "version": "3.9.1"
  },
  "orig_nbformat": 4
 },
 "nbformat": 4,
 "nbformat_minor": 2
}
