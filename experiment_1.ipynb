{
 "cells": [
  {
   "attachments": {},
   "cell_type": "markdown",
   "metadata": {},
   "source": [
    "# Skin diseases prediction using various deep neural networks\n",
    "Here, I will be implementing various deep learning architectures to classify thirteen different types of skin diseases.\n",
    "The target of this experiment is to compare various models on various parameters to draw possible conclusions about architectures.\n",
    "Models implemented here are:\n",
    "1. TinyVGG (without augmentation)\n",
    "2. TinyVGG (with augmentation)\n",
    "3. MobileNet\n",
    "4. DenseNet\n",
    "5. VGG19\n",
    "6. Vision Transformers\n",
    "<br>\n",
    "As data is medical data, it is difficult to generate synthetic data which accurately represents specific diseases. That is why, I will be using resampling if required. Transfer learning will be used for some models while some will be trained from scratch.\n",
    "<br>\n",
    "Experiment is designed in a way that code can be understood easily with well written documentation following all methods of writing code suggested in PEP 8 style of python programming.\n",
    "<br>\n",
    "As this is experiment setup, code is in notebook. Once results are derived, code can be converted in modular format and packaged to be delievered for easy usage."
   ]
  },
  {
   "cell_type": "code",
   "execution_count": 1,
   "metadata": {},
   "outputs": [],
   "source": [
    "import torch\n",
    "import torchvision"
   ]
  }
 ],
 "metadata": {
  "kernelspec": {
   "display_name": "Python 3",
   "language": "python",
   "name": "python3"
  },
  "language_info": {
   "codemirror_mode": {
    "name": "ipython",
    "version": 3
   },
   "file_extension": ".py",
   "mimetype": "text/x-python",
   "name": "python",
   "nbconvert_exporter": "python",
   "pygments_lexer": "ipython3",
   "version": "3.9.1"
  },
  "orig_nbformat": 4
 },
 "nbformat": 4,
 "nbformat_minor": 2
}
